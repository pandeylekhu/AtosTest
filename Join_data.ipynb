{
 "cells": [
  {
   "cell_type": "code",
   "execution_count": 730,
   "metadata": {},
   "outputs": [],
   "source": [
    "import pandas as pd\n",
    "from datetime import datetime,timedelta\n",
    "from dateutil.relativedelta import relativedelta\n",
    "import numpy as np"
   ]
  },
  {
   "cell_type": "markdown",
   "metadata": {},
   "source": [
    "<h4>Transformations for non readable columns and Datetime columns</h1>"
   ]
  },
  {
   "cell_type": "code",
   "execution_count": 828,
   "metadata": {},
   "outputs": [],
   "source": [
    "#Change the change field from string to datetime.\n",
    "to_yymmdd = lambda dt: datetime.strptime(dt, \"%y%m%d\")\n",
    "to_yymmddhhmmss = lambda dt: datetime.strptime(dt, \"%y%m%d %H:%M:%S\")\n",
    "#Translate the frequency field in english\n",
    "to_english=lambda freq: 'monthly' if str.strip(freq)=='POPLATEK MESICNE' else\\\n",
    "                        'weekly' if str.strip(freq)=='POPLATEK TYDNE' else\\\n",
    "                        'pertransaction' if str.strip(freq)=='POPLATEK PO OBRATU' else\\\n",
    "                         str.strip(freq) if len(str.strip(freq))!=0 else np.NaN \n",
    "#Translate the frequency field in english\n",
    "Change_Status_Readable=lambda Status: 'CLOSED|PAYED' if str.strip(Status)=='A' else\\\n",
    "                                      'CLOSED|NOTPAYED' if str.strip(Status)=='B' else\\\n",
    "                                      'ACTIVE|NODEBT' if str.strip(Status)=='C' else\\\n",
    "                                      'ACTIVE|INDEBT' if str.strip(Status)=='D' else\\\n",
    "                                       str.strip(Status) if len(str.strip(Status))!=0 else np.NaN "
   ]
  },
  {
   "cell_type": "markdown",
   "metadata": {},
   "source": [
    "<h2>Read Account.txt and load the data</h2>"
   ]
  },
  {
   "cell_type": "code",
   "execution_count": 732,
   "metadata": {},
   "outputs": [],
   "source": [
    "#Read the file with converter functions\n",
    "df_accounts=pd.read_csv('../account.txt',delimiter=';',converters={'date':to_yymmdd,'frequency':to_english})\n",
    "df_accounts=df_accounts.rename(columns={'date':'create_date','district_id':'branch_dist_id'})"
   ]
  },
  {
   "cell_type": "code",
   "execution_count": 733,
   "metadata": {},
   "outputs": [
    {
     "name": "stdout",
     "output_type": "stream",
     "text": [
      "\n",
      "*******Check Distinct Values in Changed columns************\n",
      "Frequency: ['monthly' 'pertransaction' 'weekly']\n",
      "\n",
      "*******Check for Null Values in dataset************\n",
      "account_id        0\n",
      "branch_dist_id    0\n",
      "frequency         0\n",
      "create_date       0\n",
      "dtype: int64\n",
      "\n",
      "*******Check for duplicate account_id in dataset************\n",
      "Total count: 4500\n",
      "Distinct Count: 4500\n",
      "\n",
      "*******No of records accounts dataset************\n",
      "4500\n",
      "\n",
      "*******Columns in dataset************\n",
      "Index(['account_id', 'branch_dist_id', 'frequency', 'create_date'], dtype='object')\n"
     ]
    }
   ],
   "source": [
    "print(\"\\n*******Check Distinct Values in Changed columns************\")\n",
    "print('Frequency:',df_accounts.frequency.unique())\n",
    "print(\"\\n*******Check for Null Values in dataset************\")\n",
    "print(df_accounts.isna().sum())\n",
    "print(\"\\n*******Check for duplicate account_id in dataset************\")\n",
    "print('Total count:',df_accounts.account_id.shape[0])\n",
    "print('Distinct Count:',df_accounts.account_id.unique().shape[0])\n",
    "print(\"\\n*******No of records accounts dataset************\")\n",
    "print(df_accounts.shape[0])\n",
    "print(\"\\n*******Columns in dataset************\")\n",
    "print(df_accounts.columns)"
   ]
  },
  {
   "cell_type": "markdown",
   "metadata": {},
   "source": [
    "<h2>Read loan.txt and load the data</h2>"
   ]
  },
  {
   "cell_type": "code",
   "execution_count": 734,
   "metadata": {},
   "outputs": [],
   "source": [
    "df_loan=pd.read_csv('../loan.txt',delimiter=';',converters={'date':to_yymmdd,'status':Change_Status_Readable})\n",
    "df_loan=pd.concat([df_loan,df_loan.status.str.split('|',expand=True)],axis=1).drop('status',axis=1)\n",
    "df_loan=df_loan.rename(columns={0:'AccountStatus',1:'PaymentStatus','date':'loan_grant_date','amount':'loan_amount','payments':'installment_amt'})"
   ]
  },
  {
   "cell_type": "code",
   "execution_count": 735,
   "metadata": {},
   "outputs": [
    {
     "name": "stdout",
     "output_type": "stream",
     "text": [
      "\n",
      "*******Check Distinct Values in Changed columns************\n",
      "Account Status: ['CLOSED' 'ACTIVE']\n",
      "Payment Status: ['NOTPAYED' 'PAYED' 'NODEBT' 'INDEBT']\n",
      "\n",
      "*******Check for Null Values in dataset************\n",
      "loan_id            0\n",
      "account_id         0\n",
      "loan_grant_date    0\n",
      "loan_amount        0\n",
      "duration           0\n",
      "installment_amt    0\n",
      "AccountStatus      0\n",
      "PaymentStatus      0\n",
      "dtype: int64\n",
      "\n",
      "*******Check for duplicate loan_id in dataset************\n",
      "Total count: 682\n",
      "Distinct Count: 682\n",
      "\n",
      "*******No of records loan dataset************\n",
      "682\n",
      "\n",
      "*******Columns in dataset************\n",
      "Index(['loan_id', 'account_id', 'loan_grant_date', 'loan_amount', 'duration',\n",
      "       'installment_amt', 'AccountStatus', 'PaymentStatus'],\n",
      "      dtype='object')\n"
     ]
    }
   ],
   "source": [
    "print(\"\\n*******Check Distinct Values in Changed columns************\")\n",
    "print('Account Status:',df_loan.AccountStatus.unique())\n",
    "print('Payment Status:',df_loan.PaymentStatus.unique())\n",
    "print(\"\\n*******Check for Null Values in dataset************\")\n",
    "print(df_loan.isna().sum())\n",
    "print(\"\\n*******Check for duplicate loan_id in dataset************\")\n",
    "print('Total count:',df_loan.loan_id.shape[0])\n",
    "print('Distinct Count:',df_loan.loan_id.unique().shape[0])\n",
    "print(\"\\n*******No of records loan dataset************\")\n",
    "print(df_loan.shape[0])\n",
    "print(\"\\n*******Columns in dataset************\")\n",
    "print(df_loan.columns)"
   ]
  },
  {
   "cell_type": "markdown",
   "metadata": {},
   "source": [
    "<h2>Read client.txt and load the data</h2>"
   ]
  },
  {
   "cell_type": "code",
   "execution_count": 736,
   "metadata": {},
   "outputs": [],
   "source": [
    "def get_sex_bd(birth_num):\n",
    "    birth_num=str(birth_num)\n",
    "    if int(birth_num[2:4])>12:\n",
    "        return 'female|'+birth_num[0:2]+str(int(int(birth_num[2:4])-50)).zfill(2)+birth_num[4:6]\n",
    "    else:\n",
    "        return 'male|'+birth_num"
   ]
  },
  {
   "cell_type": "code",
   "execution_count": 737,
   "metadata": {},
   "outputs": [],
   "source": [
    "df_client=pd.read_csv('../client.txt',delimiter=';',converters={'birth_number':get_sex_bd})#,converters={'date':to_yymmdd,'frequency':to_english})\n",
    "df_client=pd.concat([df_client,df_client.birth_number.str.split('|',expand=True)],axis=1).drop('birth_number',axis=1)\n",
    "df_client=df_client.rename(columns={0:'sex',1:'birthdate','district_id':'client_dist_id'})\n",
    "df_client['birthdate']=df_client.birthdate.apply(lambda dt: datetime.strptime(dt,\"%y%m%d\")-relativedelta(years=100) if datetime.strptime(dt,\"%y%m%d\")>datetime.now() else datetime.strptime(dt,\"%y%m%d\"))"
   ]
  },
  {
   "cell_type": "code",
   "execution_count": 738,
   "metadata": {},
   "outputs": [
    {
     "name": "stdout",
     "output_type": "stream",
     "text": [
      "\n",
      "*******No of records in Client dataset************\n",
      "5369\n",
      "\n",
      "*******Columns in Client dataset************\n",
      "Index(['client_id', 'client_dist_id', 'sex', 'birthdate'], dtype='object')\n"
     ]
    }
   ],
   "source": [
    "print(\"\\n*******No of records in Client dataset************\")\n",
    "print(df_client.shape[0])\n",
    "print(\"\\n*******Columns in Client dataset************\")\n",
    "print(df_client.columns)"
   ]
  },
  {
   "cell_type": "markdown",
   "metadata": {},
   "source": [
    "<h2>Read disposition.txt and load the data</h2>"
   ]
  },
  {
   "cell_type": "code",
   "execution_count": 739,
   "metadata": {},
   "outputs": [],
   "source": [
    "df_disposition=pd.read_csv('../disp.txt',delimiter=';')\n",
    "df_disposition=df_disposition.rename(columns={'type':'disposition_type'})\n",
    "# df_client_details=df_disposition.join(df_client.set_index('client_id'),how='inner',on='client_id')"
   ]
  },
  {
   "cell_type": "code",
   "execution_count": 740,
   "metadata": {},
   "outputs": [
    {
     "name": "stdout",
     "output_type": "stream",
     "text": [
      "\n",
      "*******No of disposition dataset************\n",
      "5369\n",
      "\n",
      "*******Columns in disposition dataset************\n",
      "Index(['disp_id', 'client_id', 'account_id', 'disposition_type'], dtype='object')\n"
     ]
    }
   ],
   "source": [
    "print(\"\\n*******No of disposition dataset************\")\n",
    "print(df_disposition.shape[0])\n",
    "print(\"\\n*******Columns in disposition dataset************\")\n",
    "print(df_disposition.columns)\n",
    "# print(\"\\n*******No of records df_client_details dataset************\")\n",
    "# print(df_client_details.shape[0])\n",
    "# print(\"\\n*******Columns in df_client_details dataset************\")\n",
    "# print(df_client_details.columns)"
   ]
  },
  {
   "cell_type": "markdown",
   "metadata": {},
   "source": [
    "<h2>Read transactions.txt and load the data</h2>\n",
    "<h3>Function for changing catagorical variables</h3>"
   ]
  },
  {
   "cell_type": "code",
   "execution_count": 868,
   "metadata": {},
   "outputs": [],
   "source": [
    "Change_Type_Readable=lambda typ: 'credit' if str.strip(typ)=='PRIJEM' else\\\n",
    "                                 'debit' if str.strip(typ)=='VYDAJ' else\\\n",
    "                                 'debit' if str.strip(typ)=='VYBER' else\\\n",
    "                                  str.strip(typ) if len(str.strip(typ))!=0 else np.NaN\n",
    "Change_Operation_Readable=lambda oprt:  'cc debit'    if str.strip(oprt)=='VYBER KARTOU' else\\\n",
    "                                        'cash credit' if str.strip(oprt)=='VKLAD' else\\\n",
    "                                        'oth credit' if str.strip(oprt)=='PREVOD Z UCTU' else\\\n",
    "                                        'cash debit' if str.strip(oprt)=='VYBER' else\\\n",
    "                                        'oth debit' if str.strip(oprt)=='PREVOD NA UCET' else\\\n",
    "                                         str.strip(oprt) if len(str.strip(oprt))!=0 else np.NaN\n",
    "Change_ksym_Readable=lambda ksym:   'insurance' if str.strip(ksym)=='POJISTNE' else\\\n",
    "                                    'stmt dt' if str.strip(ksym)=='SLUZBY' else\\\n",
    "                                    'interest cr' if str.strip(ksym)=='UROK' else\\\n",
    "                                    'negative bal fine' if str.strip(ksym)=='SANKC. UROK' else\\\n",
    "                                    'regular' if str.strip(ksym)=='SIPO' else\\\n",
    "                                    'O/Age Pension' if str.strip(ksym)=='DUCHOD' else\\\n",
    "                                    'loan repay' if str.strip(ksym)=='UVER' else\\\n",
    "                                    'leasing' if str.strip(ksym)=='LEASING' else\\\n",
    "                                     str.strip(ksym) if len(str.strip(ksym))!=0 else np.NaN"
   ]
  },
  {
   "cell_type": "code",
   "execution_count": 1127,
   "metadata": {},
   "outputs": [
    {
     "name": "stderr",
     "output_type": "stream",
     "text": [
      "C:\\Users\\Lekhu\\AppData\\Roaming\\Python\\Python37\\site-packages\\IPython\\core\\interactiveshell.py:3058: DtypeWarning: Columns (8) have mixed types. Specify dtype option on import or set low_memory=False.\n",
      "  interactivity=interactivity, compiler=compiler, result=result)\n",
      "C:\\Users\\Lekhu\\AppData\\Roaming\\Python\\Python37\\site-packages\\ipykernel_launcher.py:2: SettingWithCopyWarning: \n",
      "A value is trying to be set on a copy of a slice from a DataFrame\n",
      "\n",
      "See the caveats in the documentation: http://pandas.pydata.org/pandas-docs/stable/user_guide/indexing.html#returning-a-view-versus-a-copy\n",
      "  \n",
      "C:\\Users\\Lekhu\\AppData\\Roaming\\Python\\Python37\\site-packages\\ipykernel_launcher.py:3: SettingWithCopyWarning: \n",
      "A value is trying to be set on a copy of a slice from a DataFrame\n",
      "\n",
      "See the caveats in the documentation: http://pandas.pydata.org/pandas-docs/stable/user_guide/indexing.html#returning-a-view-versus-a-copy\n",
      "  This is separate from the ipykernel package so we can avoid doing imports until\n"
     ]
    }
   ],
   "source": [
    "df_transactions=pd.read_csv('../trans.txt',delimiter=';',converters={'date':to_yymmdd,'type':Change_Type_Readable,'operation':Change_Operation_Readable,'k_symbol':Change_ksym_Readable})#,'frequency':to_english})\n",
    "df_transactions.operation[(df_transactions.operation.isnull()) & (df_transactions.k_symbol=='interest cr')]='interest credit'\n",
    "df_transactions.amount[df_transactions.type=='debit']*=-1\n",
    "df_transactions=df_transactions.rename(columns={'date':'trans_date'})"
   ]
  },
  {
   "cell_type": "code",
   "execution_count": 1136,
   "metadata": {},
   "outputs": [
    {
     "data": {
      "text/plain": [
       "Timedelta('7691 days 08:57:47.148484')"
      ]
     },
     "execution_count": 1136,
     "metadata": {},
     "output_type": "execute_result"
    }
   ],
   "source": [
    "datetime.now()-df_transactions.trans_date.max()"
   ]
  },
  {
   "cell_type": "code",
   "execution_count": 1128,
   "metadata": {},
   "outputs": [
    {
     "name": "stdout",
     "output_type": "stream",
     "text": [
      "\n",
      "*******Check Distinct Values in Changed columns************\n",
      "Type: ['credit' 'debit']\n",
      "Operation: ['cash credit' 'oth credit' 'cash debit' 'interest credit' 'oth debit'\n",
      " 'cc debit']\n",
      "K_symbol: [nan 'O/Age Pension' 'interest cr' 'regular' 'stmt dt' 'insurance'\n",
      " 'negative bal fine' 'loan repay']\n",
      "\n",
      "*******Check for Null Values in dataset************\n",
      "trans_id           0\n",
      "account_id         0\n",
      "trans_date         0\n",
      "type               0\n",
      "operation          0\n",
      "amount             0\n",
      "balance            0\n",
      "k_symbol      535314\n",
      "bank          782812\n",
      "account       760931\n",
      "dtype: int64\n",
      "\n",
      "*******Check for duplicate account_id in dataset************\n",
      "Total count: 1056320\n",
      "Distinct Count: 1056320\n",
      "\n",
      "*******No of records dataset************\n",
      "1056320\n",
      "\n",
      "*******Columns in dataset************\n",
      "Index(['trans_id', 'account_id', 'trans_date', 'type', 'operation', 'amount',\n",
      "       'balance', 'k_symbol', 'bank', 'account'],\n",
      "      dtype='object')\n"
     ]
    }
   ],
   "source": [
    "print(\"\\n*******Check Distinct Values in Changed columns************\")\n",
    "print('Type:',df_transactions.type.unique())\n",
    "print('Operation:',df_transactions.operation.unique())\n",
    "print('K_symbol:',df_transactions.k_symbol.unique())\n",
    "print(\"\\n*******Check for Null Values in dataset************\")\n",
    "print(df_transactions.isna().sum())\n",
    "print(\"\\n*******Check for duplicate account_id in dataset************\")\n",
    "print('Total count:',df_transactions.trans_id.shape[0])\n",
    "print('Distinct Count:',df_transactions.trans_id.unique().shape[0])\n",
    "print(\"\\n*******No of records dataset************\")\n",
    "print(df_transactions.shape[0])\n",
    "print(\"\\n*******Columns in dataset************\")\n",
    "print(df_transactions.columns)"
   ]
  },
  {
   "cell_type": "markdown",
   "metadata": {},
   "source": [
    "<h2>Generate required features from transactions data</h2>\n",
    "<li>number of debit and credit transactions</li>\n",
    "<li>Current account balance of an account</li>\n",
    "<li>number of transaction per operation type</li>\n",
    "<li>number of transactions per k_symbol type</li>\n",
    "<li>Frequency of transactions</li>"
   ]
  },
  {
   "cell_type": "code",
   "execution_count": 1130,
   "metadata": {},
   "outputs": [],
   "source": [
    "df_final_trans=df_transactions.groupby(['account_id','type']).count().reset_index()[['account_id','type','trans_id']]\\\n",
    "                              .pivot(index='account_id',columns='type',values='trans_id').reset_index()\n",
    "df_account_bal=df_transactions.groupby(['account_id'])\\\n",
    "                              .apply(lambda grp: grp.sort_values('trans_date',ascending=False)).reset_index(drop=True)\\\n",
    "                              .groupby('account_id').head(1)[['account_id','balance']].reset_index(drop=True)\n",
    "df_operation_cnt=df_transactions.groupby(['account_id','operation'])['amount'].sum().reset_index()\\\n",
    "                                .pivot(index='account_id',columns='operation',values='amount').reset_index()\\\n",
    "                                .fillna(0)\n",
    "df_ksym=df_transactions.groupby(['account_id','k_symbol'])['amount'].sum().reset_index()\\\n",
    "                       .pivot(index='account_id',columns='k_symbol',values='amount').reset_index()\\\n",
    "                       .fillna(0)\n",
    "df_transactions['trans_freq']=df_transactions.sort_values(['account_id','trans_date']).groupby(['account_id'])\\\n",
    "                                             .apply(lambda rec: rec['trans_date']-rec.shift()['trans_date']).reset_index()\\\n",
    "                                             ['trans_date'].dt.days\n",
    "df_trans_freq=df_transactions.groupby('account_id')['trans_freq'].mean().reset_index()\n",
    "df_final_trans=df_final_trans.join(df_account_bal.set_index('account_id'),on='account_id',how='inner')\\\n",
    "                             .join(df_operation_cnt.set_index('account_id'),on='account_id',how='inner')\\\n",
    "                             .join(df_trans_freq.set_index('account_id'),on='account_id',how='inner')\\\n",
    "                             .join(df_ksym.set_index('account_id'),on='account_id',how='left').fillna(0)"
   ]
  },
  {
   "cell_type": "markdown",
   "metadata": {},
   "source": [
    "<h2>Load demographic data</h2>"
   ]
  },
  {
   "cell_type": "code",
   "execution_count": 1005,
   "metadata": {},
   "outputs": [],
   "source": [
    "df_district=pd.read_csv('../district.txt',delimiter=';')#,converters={'date':to_yymmdd,'type':Change_Type_Readable,'operation':Change_Operation_Readable,'k_symbol':Change_ksym_Readable})#,'frequency':to_english})\n",
    "df_district.replace('?','0',inplace=True)\n",
    "df_district.A12=df_district.A12.astype(float)\n",
    "df_district.A15=df_district.A15.astype(float)"
   ]
  },
  {
   "cell_type": "markdown",
   "metadata": {},
   "source": [
    "<h2>Load card details data</h2>\n",
    "<h3>Generate feature number of credit cards per account</h3>"
   ]
  },
  {
   "cell_type": "code",
   "execution_count": 1007,
   "metadata": {},
   "outputs": [],
   "source": [
    "df_card=pd.read_csv('../card.txt',delimiter=';',converters={'issued':to_yymmddhhmmss})\n",
    "df_card=df_card.join(df_disposition.set_index('disp_id'),how='inner',on='disp_id')[['card_id','account_id','type']]\\\n",
    "               .groupby(['account_id','type']).count().reset_index()\\\n",
    "               .pivot(index='account_id',columns='type',values='card_id').reset_index()\\\n",
    "               .fillna(0)"
   ]
  },
  {
   "cell_type": "code",
   "execution_count": 874,
   "metadata": {},
   "outputs": [],
   "source": [
    "df_order=pd.read_csv('../order.txt',delimiter=';',converters={'k_symbol':Change_ksym_Readable})#,converters={'date':to_yymmdd,'type':Change_Type_Readable,'operation':Change_Operation_Readable,'k_symbol':Change_ksym_Readable})#,'frequency':to_english})\n",
    "df_order=df_order.rename(columns={'amount':'order_amt','k_symbol':'ord_k_symbol'})\n",
    "# df_order.replace('?','0',inplace=True)"
   ]
  },
  {
   "cell_type": "markdown",
   "metadata": {},
   "source": [
    "<h2>Join all the data</h2>"
   ]
  },
  {
   "cell_type": "code",
   "execution_count": 1131,
   "metadata": {},
   "outputs": [],
   "source": [
    "df_final=df_loan.join(df_accounts.set_index('account_id'),how='inner',on='account_id')\\\n",
    "                .join(df_disposition[df_disposition.disposition_type=='OWNER'].set_index('account_id'),how='inner',on='account_id')\\\n",
    "                .join(df_client.set_index('client_id'),how='inner',on='client_id')\\\n",
    "                .join(df_final_trans.set_index('account_id'),how='inner',on='account_id')\\\n",
    "                .join(df_district.set_index('A1'),how='inner',on='client_dist_id')\\\n",
    "                .join(df_card.set_index('account_id'),how='left',on='account_id')\n",
    "df_final.fillna(0,inplace=True)"
   ]
  },
  {
   "cell_type": "markdown",
   "metadata": {},
   "source": [
    "<h2>Check the counts for each file.</h2>"
   ]
  },
  {
   "cell_type": "code",
   "execution_count": 1132,
   "metadata": {},
   "outputs": [
    {
     "name": "stdout",
     "output_type": "stream",
     "text": [
      "Loan acc: (682, 8)\n",
      "Tot Acc: (4500, 4)\n",
      "Disposition Data: (5369, 4)\n",
      "client Data: (5369, 4)\n",
      "Transaction Data: (4500, 18)\n",
      "Demographic Data: (77, 16)\n",
      "card data: (892, 4)\n",
      "joined data: (682, 52)\n",
      "Distinct accounts: 682\n"
     ]
    }
   ],
   "source": [
    "print('Loan acc:',df_loan.shape)\n",
    "print('Tot Acc:',df_accounts.shape)\n",
    "print('Disposition Data:',df_disposition.shape)\n",
    "print('client Data:',df_client.shape)\n",
    "print('Transaction Data:',df_final_trans.shape)\n",
    "print('Demographic Data:',df_district.shape)\n",
    "print('card data:',df_card.shape)\n",
    "print('joined data:',df_final.shape)\n",
    "print('Distinct accounts:',df_final.account_id.unique().shape[0])"
   ]
  },
  {
   "cell_type": "markdown",
   "metadata": {},
   "source": [
    "<h2>Save the final data to a file.</h2>"
   ]
  },
  {
   "cell_type": "code",
   "execution_count": 1134,
   "metadata": {},
   "outputs": [],
   "source": [
    "df_final.to_csv('../Consolidated.txt',sep='|',index=False)"
   ]
  }
 ],
 "metadata": {
  "kernelspec": {
   "display_name": "Python 3",
   "language": "python",
   "name": "python3"
  },
  "language_info": {
   "codemirror_mode": {
    "name": "ipython",
    "version": 3
   },
   "file_extension": ".py",
   "mimetype": "text/x-python",
   "name": "python",
   "nbconvert_exporter": "python",
   "pygments_lexer": "ipython3",
   "version": "3.7.3"
  }
 },
 "nbformat": 4,
 "nbformat_minor": 2
}
