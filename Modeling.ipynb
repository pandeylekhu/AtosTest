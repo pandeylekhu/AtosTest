{
 "cells": [
  {
   "cell_type": "code",
   "execution_count": 138,
   "metadata": {},
   "outputs": [],
   "source": [
    "import pandas as pd\n",
    "from datetime import datetime,timedelta\n",
    "from sklearn.preprocessing import LabelEncoder\n",
    "from sklearn.preprocessing import OneHotEncoder\n",
    "from sklearn.ensemble import ExtraTreesClassifier\n",
    "import matplotlib.pyplot as plt\n",
    "\n",
    "from sklearn.preprocessing import MinMaxScaler\n",
    "from sklearn.model_selection import train_test_split\n",
    "from sklearn.metrics import classification_report, confusion_matrix\n",
    "from sklearn.ensemble import GradientBoostingClassifier"
   ]
  },
  {
   "cell_type": "markdown",
   "metadata": {},
   "source": [
    "<h2>Load final data and preprocess the data to pick only the relevant features.</h2>"
   ]
  },
  {
   "cell_type": "code",
   "execution_count": 103,
   "metadata": {},
   "outputs": [],
   "source": [
    "#Change the change field from string to datetime.\n",
    "to_yymmdd = lambda dt: datetime.strptime(dt, \"%Y-%m-%d\")\n",
    "df_data=pd.read_csv('../Consolidated.txt',delimiter='|',\\\n",
    "                    infer_datetime_format=True,keep_date_col=True,\\\n",
    "                    converters={'loan_grant_date':to_yymmdd,'create_date':to_yymmdd,'birthdate':to_yymmdd})"
   ]
  },
  {
   "cell_type": "code",
   "execution_count": 104,
   "metadata": {},
   "outputs": [
    {
     "data": {
      "text/html": [
       "<div>\n",
       "<style scoped>\n",
       "    .dataframe tbody tr th:only-of-type {\n",
       "        vertical-align: middle;\n",
       "    }\n",
       "\n",
       "    .dataframe tbody tr th {\n",
       "        vertical-align: top;\n",
       "    }\n",
       "\n",
       "    .dataframe thead th {\n",
       "        text-align: right;\n",
       "    }\n",
       "</style>\n",
       "<table border=\"1\" class=\"dataframe\">\n",
       "  <thead>\n",
       "    <tr style=\"text-align: right;\">\n",
       "      <th></th>\n",
       "      <th>loan_amount</th>\n",
       "      <th>duration</th>\n",
       "      <th>installment_amt</th>\n",
       "      <th>AccountStatus</th>\n",
       "      <th>PaymentStatus</th>\n",
       "      <th>sex</th>\n",
       "      <th>credit</th>\n",
       "      <th>debit</th>\n",
       "      <th>balance</th>\n",
       "      <th>cash credit</th>\n",
       "      <th>...</th>\n",
       "      <th>A13</th>\n",
       "      <th>A14</th>\n",
       "      <th>A15</th>\n",
       "      <th>A16</th>\n",
       "      <th>classic</th>\n",
       "      <th>gold</th>\n",
       "      <th>junior</th>\n",
       "      <th>loan_age</th>\n",
       "      <th>account_age</th>\n",
       "      <th>client_age</th>\n",
       "    </tr>\n",
       "  </thead>\n",
       "  <tbody>\n",
       "    <tr>\n",
       "      <th>0</th>\n",
       "      <td>96396</td>\n",
       "      <td>12</td>\n",
       "      <td>8033.0</td>\n",
       "      <td>CLOSED</td>\n",
       "      <td>NOTPAYED</td>\n",
       "      <td>female</td>\n",
       "      <td>154</td>\n",
       "      <td>249</td>\n",
       "      <td>5903.1</td>\n",
       "      <td>2047725.0</td>\n",
       "      <td>...</td>\n",
       "      <td>3.67</td>\n",
       "      <td>100</td>\n",
       "      <td>2985.0</td>\n",
       "      <td>2804</td>\n",
       "      <td>0.0</td>\n",
       "      <td>0.0</td>\n",
       "      <td>0.0</td>\n",
       "      <td>2005</td>\n",
       "      <td>2110</td>\n",
       "      <td>18790</td>\n",
       "    </tr>\n",
       "    <tr>\n",
       "      <th>1</th>\n",
       "      <td>165960</td>\n",
       "      <td>36</td>\n",
       "      <td>4610.0</td>\n",
       "      <td>CLOSED</td>\n",
       "      <td>PAYED</td>\n",
       "      <td>male</td>\n",
       "      <td>188</td>\n",
       "      <td>445</td>\n",
       "      <td>93628.6</td>\n",
       "      <td>2411437.0</td>\n",
       "      <td>...</td>\n",
       "      <td>2.31</td>\n",
       "      <td>117</td>\n",
       "      <td>2854.0</td>\n",
       "      <td>2618</td>\n",
       "      <td>0.0</td>\n",
       "      <td>0.0</td>\n",
       "      <td>0.0</td>\n",
       "      <td>1999</td>\n",
       "      <td>2147</td>\n",
       "      <td>11119</td>\n",
       "    </tr>\n",
       "    <tr>\n",
       "      <th>2</th>\n",
       "      <td>47016</td>\n",
       "      <td>12</td>\n",
       "      <td>3918.0</td>\n",
       "      <td>CLOSED</td>\n",
       "      <td>PAYED</td>\n",
       "      <td>female</td>\n",
       "      <td>191</td>\n",
       "      <td>279</td>\n",
       "      <td>75197.4</td>\n",
       "      <td>3189134.0</td>\n",
       "      <td>...</td>\n",
       "      <td>2.31</td>\n",
       "      <td>117</td>\n",
       "      <td>2854.0</td>\n",
       "      <td>2618</td>\n",
       "      <td>0.0</td>\n",
       "      <td>0.0</td>\n",
       "      <td>0.0</td>\n",
       "      <td>1848</td>\n",
       "      <td>2087</td>\n",
       "      <td>14975</td>\n",
       "    </tr>\n",
       "    <tr>\n",
       "      <th>3</th>\n",
       "      <td>69360</td>\n",
       "      <td>48</td>\n",
       "      <td>1445.0</td>\n",
       "      <td>CLOSED</td>\n",
       "      <td>PAYED</td>\n",
       "      <td>male</td>\n",
       "      <td>140</td>\n",
       "      <td>263</td>\n",
       "      <td>37001.8</td>\n",
       "      <td>896219.0</td>\n",
       "      <td>...</td>\n",
       "      <td>2.31</td>\n",
       "      <td>117</td>\n",
       "      <td>2854.0</td>\n",
       "      <td>2618</td>\n",
       "      <td>0.0</td>\n",
       "      <td>0.0</td>\n",
       "      <td>0.0</td>\n",
       "      <td>1663</td>\n",
       "      <td>2113</td>\n",
       "      <td>20975</td>\n",
       "    </tr>\n",
       "    <tr>\n",
       "      <th>4</th>\n",
       "      <td>390096</td>\n",
       "      <td>48</td>\n",
       "      <td>8127.0</td>\n",
       "      <td>ACTIVE</td>\n",
       "      <td>NODEBT</td>\n",
       "      <td>male</td>\n",
       "      <td>62</td>\n",
       "      <td>109</td>\n",
       "      <td>80446.6</td>\n",
       "      <td>761027.0</td>\n",
       "      <td>...</td>\n",
       "      <td>2.31</td>\n",
       "      <td>117</td>\n",
       "      <td>2854.0</td>\n",
       "      <td>2618</td>\n",
       "      <td>0.0</td>\n",
       "      <td>0.0</td>\n",
       "      <td>1.0</td>\n",
       "      <td>701</td>\n",
       "      <td>864</td>\n",
       "      <td>7401</td>\n",
       "    </tr>\n",
       "  </tbody>\n",
       "</table>\n",
       "<p>5 rows × 44 columns</p>\n",
       "</div>"
      ],
      "text/plain": [
       "   loan_amount  duration  installment_amt AccountStatus PaymentStatus     sex  \\\n",
       "0        96396        12           8033.0        CLOSED      NOTPAYED  female   \n",
       "1       165960        36           4610.0        CLOSED         PAYED    male   \n",
       "2        47016        12           3918.0        CLOSED         PAYED  female   \n",
       "3        69360        48           1445.0        CLOSED         PAYED    male   \n",
       "4       390096        48           8127.0        ACTIVE        NODEBT    male   \n",
       "\n",
       "   credit  debit  balance  cash credit  ...   A13  A14     A15   A16  classic  \\\n",
       "0     154    249   5903.1    2047725.0  ...  3.67  100  2985.0  2804      0.0   \n",
       "1     188    445  93628.6    2411437.0  ...  2.31  117  2854.0  2618      0.0   \n",
       "2     191    279  75197.4    3189134.0  ...  2.31  117  2854.0  2618      0.0   \n",
       "3     140    263  37001.8     896219.0  ...  2.31  117  2854.0  2618      0.0   \n",
       "4      62    109  80446.6     761027.0  ...  2.31  117  2854.0  2618      0.0   \n",
       "\n",
       "   gold  junior  loan_age  account_age  client_age  \n",
       "0   0.0     0.0      2005         2110       18790  \n",
       "1   0.0     0.0      1999         2147       11119  \n",
       "2   0.0     0.0      1848         2087       14975  \n",
       "3   0.0     0.0      1663         2113       20975  \n",
       "4   0.0     1.0       701          864        7401  \n",
       "\n",
       "[5 rows x 44 columns]"
      ]
     },
     "execution_count": 104,
     "metadata": {},
     "output_type": "execute_result"
    }
   ],
   "source": [
    "# df_data['loan_expiry']=df_data.apply(lambda rec: rec['loan_grant_date']+ pd.offsets.MonthEnd(rec['duration']), axis=1)\n",
    "df_data['loan_age']=df_data.apply(lambda rec: (datetime.now()-rec['loan_grant_date']).days-7691, axis=1)\n",
    "df_data['account_age']=df_data.apply(lambda rec: (datetime.now()-rec['create_date']).days-7691, axis=1)\n",
    "df_data['client_age']=df_data.apply(lambda rec: (datetime.now()-rec['birthdate']).days-7691, axis=1)\n",
    "df_data=df_data[['loan_amount', 'duration',\n",
    "       'installment_amt', 'AccountStatus', 'PaymentStatus',\n",
    "       'sex', 'credit', 'debit', 'balance',\n",
    "       'cash credit', 'cash debit', 'cc debit', 'interest credit',\n",
    "       'oth credit', 'oth debit', 'trans_freq', 'O/Age Pension', 'insurance',\n",
    "       'interest cr', 'loan repay', 'negative bal fine', 'regular', 'stmt dt',\n",
    "       'A2', 'A3', 'A4', 'A5', 'A6', 'A7', 'A8', 'A9', 'A10', 'A11', 'A12',\n",
    "       'A13', 'A14', 'A15', 'A16', 'classic', 'gold', 'junior',\n",
    "       'loan_age','account_age','client_age']]\n",
    "df_data.head()"
   ]
  },
  {
   "cell_type": "markdown",
   "metadata": {},
   "source": [
    "<h2>Treat categorical Variables</h2>"
   ]
  },
  {
   "cell_type": "code",
   "execution_count": 105,
   "metadata": {},
   "outputs": [],
   "source": [
    "account_status={'CLOSED':0,'ACTIVE':1}\n",
    "df_data['AccountStatus']=df_data['AccountStatus'].replace(account_status)\n",
    "PaymentStatus={'PAYED':0,'NOTPAYED':1,'NODEBT':0,'INDEBT':1}\n",
    "df_data['PaymentStatus']=df_data['PaymentStatus'].replace(PaymentStatus)\n",
    "df_data=pd.concat([df_data,pd.get_dummies(df_data.sex)],axis=1).drop('sex',axis=1)\n",
    "df_data=pd.concat([df_data,pd.get_dummies(df_data.A2)],axis=1).drop('A2',axis=1)\n",
    "df_data=pd.concat([df_data,pd.get_dummies(df_data.A3)],axis=1).drop('A3',axis=1)"
   ]
  },
  {
   "cell_type": "markdown",
   "metadata": {},
   "source": [
    "<h2>Feature Selection, based on Feature importance attribute of a model.</h2>"
   ]
  },
  {
   "cell_type": "code",
   "execution_count": 214,
   "metadata": {},
   "outputs": [
    {
     "name": "stderr",
     "output_type": "stream",
     "text": [
      "C:\\ProgramData\\Anaconda3\\lib\\site-packages\\sklearn\\ensemble\\forest.py:246: FutureWarning: The default value of n_estimators will change from 10 in version 0.20 to 100 in 0.22.\n",
      "  \"10 in version 0.20 to 100 in 0.22.\", FutureWarning)\n"
     ]
    },
    {
     "data": {
      "image/png": "[encoded data removed]",
      "text/plain": [
       "<Figure size 432x288 with 1 Axes>"
      ]
     },
     "metadata": {
      "needs_background": "light"
     },
     "output_type": "display_data"
    }
   ],
   "source": [
    "X=df_data.drop(['PaymentStatus'],axis=1)\n",
    "y=df_data.PaymentStatus\n",
    "model = ExtraTreesClassifier()\n",
    "model.fit(X,y)\n",
    "# print(model.feature_importances_)\n",
    "feat_importances = pd.Series(model.feature_importances_, index=X.columns)\n",
    "feat_importances.nlargest(30).plot(kind='barh')\n",
    "plt.show()"
   ]
  },
  {
   "cell_type": "markdown",
   "metadata": {},
   "source": [
    "<h2>Selected top 30 important features.</h2>"
   ]
  },
  {
   "cell_type": "code",
   "execution_count": 202,
   "metadata": {},
   "outputs": [],
   "source": [
    "df_data=df_data[feat_importances.sort_values(ascending=False)[:30].index.to_list()+['PaymentStatus']]"
   ]
  },
  {
   "cell_type": "markdown",
   "metadata": {},
   "source": [
    "<h2>Split the data in test train</h2>"
   ]
  },
  {
   "cell_type": "code",
   "execution_count": 203,
   "metadata": {},
   "outputs": [],
   "source": [
    "X_train, X_test, y_train, y_test = train_test_split(df_data.drop('PaymentStatus',axis=1), df_data['PaymentStatus'],test_size=0.30, random_state=12)"
   ]
  },
  {
   "cell_type": "markdown",
   "metadata": {},
   "source": [
    "<h2>Find best learning rate of Gradient Boosting Classifier.</h2>"
   ]
  },
  {
   "cell_type": "code",
   "execution_count": 212,
   "metadata": {},
   "outputs": [
    {
     "name": "stdout",
     "output_type": "stream",
     "text": [
      "Learning rate:  0.05\n",
      "Accuracy score (training): 0.872\n",
      "Accuracy score (validation): 0.927\n",
      "Learning rate:  0.075\n",
      "Accuracy score (training): 0.878\n",
      "Accuracy score (validation): 0.927\n",
      "Learning rate:  0.1\n",
      "Accuracy score (training): 0.883\n",
      "Accuracy score (validation): 0.927\n",
      "Learning rate:  0.25\n",
      "Accuracy score (training): 0.960\n",
      "Accuracy score (validation): 0.946\n",
      "Learning rate:  0.3\n",
      "Accuracy score (training): 0.956\n",
      "Accuracy score (validation): 0.951\n",
      "Learning rate:  0.35\n",
      "Accuracy score (training): 0.943\n",
      "Accuracy score (validation): 0.937\n",
      "Learning rate:  0.4\n",
      "Accuracy score (training): 0.948\n",
      "Accuracy score (validation): 0.937\n",
      "Learning rate:  0.45\n",
      "Accuracy score (training): 0.948\n",
      "Accuracy score (validation): 0.941\n",
      "Learning rate:  0.5\n",
      "Accuracy score (training): 0.956\n",
      "Accuracy score (validation): 0.917\n",
      "Learning rate:  0.75\n",
      "Accuracy score (training): 0.987\n",
      "Accuracy score (validation): 0.932\n",
      "Learning rate:  1\n",
      "Accuracy score (training): 0.992\n",
      "Accuracy score (validation): 0.941\n"
     ]
    },
    {
     "data": {
      "text/plain": [
       "[<matplotlib.lines.Line2D at 0x24f361244a8>]"
      ]
     },
     "execution_count": 212,
     "metadata": {},
     "output_type": "execute_result"
    },
    {
     "data": {
      "image/png": "[encoded data removed]",
      "text/plain": [
       "<Figure size 432x288 with 1 Axes>"
      ]
     },
     "metadata": {
      "needs_background": "light"
     },
     "output_type": "display_data"
    }
   ],
   "source": [
    "lr_list = [0.05, 0.075, 0.1, 0.25,0.30,0.35,0.40,0.45, 0.5, 0.75, 1]\n",
    "plt_data={'learning_rate':[],'train_accuracy':[],'test_accuracy':[]}\n",
    "for learning_rate in lr_list:\n",
    "    gbm_clf = GradientBoostingClassifier(n_estimators=20, learning_rate=learning_rate, max_features=2, max_depth=2, random_state=0)\n",
    "    gbm_clf.fit(X_train, y_train)\n",
    "\n",
    "    print(\"Learning rate: \", learning_rate)\n",
    "    print(\"Accuracy score (training): {0:.3f}\".format(gbm_clf.score(X_train, y_train)))\n",
    "    print(\"Accuracy score (validation): {0:.3f}\".format(gbm_clf.score(X_test, y_test)))\n",
    "    plt_data['learning_rate'].append(learning_rate)\n",
    "    plt_data['train_accuracy'].append(gbm_clf.score(X_train, y_train))\n",
    "    plt_data['test_accuracy'].append(gbm_clf.score(X_test, y_test))\n",
    "plt_data=pd.DataFrame(plt_data)\n",
    "plt.plot(plt_data.learning_rate,plt_data.train_accuracy,'blue')\n",
    "plt.plot(plt_data.learning_rate,plt_data.test_accuracy,'green')"
   ]
  },
  {
   "cell_type": "markdown",
   "metadata": {},
   "source": [
    "<h2>selected 0.25 as learning rate of Gradient Boosting Classifier.</h2>\n",
    "\n",
    "<h3>check other measurements for the model</h3>"
   ]
  },
  {
   "cell_type": "code",
   "execution_count": 205,
   "metadata": {},
   "outputs": [
    {
     "name": "stdout",
     "output_type": "stream",
     "text": [
      "Confusion Matrix:\n",
      "[[189   1]\n",
      " [ 10   5]]\n",
      "Classification Report\n",
      "              precision    recall  f1-score   support\n",
      "\n",
      "           0       0.95      0.99      0.97       190\n",
      "           1       0.83      0.33      0.48        15\n",
      "\n",
      "   micro avg       0.95      0.95      0.95       205\n",
      "   macro avg       0.89      0.66      0.72       205\n",
      "weighted avg       0.94      0.95      0.94       205\n",
      "\n"
     ]
    }
   ],
   "source": [
    "gbm_clf_tuned = GradientBoostingClassifier(n_estimators=20, learning_rate=0.25, max_features=2, max_depth=2, random_state=0)\n",
    "gbm_clf_tuned.fit(X_train, y_train)\n",
    "predictions = gbm_clf_tuned.predict(X_test)\n",
    "\n",
    "print(\"Confusion Matrix:\")\n",
    "print(confusion_matrix(y_test, predictions))\n",
    "\n",
    "print(\"Classification Report\")\n",
    "print(classification_report(y_test, predictions))"
   ]
  },
  {
   "cell_type": "markdown",
   "metadata": {},
   "source": [
    "<h2>Find best learning rate of Xtreme Gradient Boosting Classifier.</h2>"
   ]
  },
  {
   "cell_type": "code",
   "execution_count": 208,
   "metadata": {},
   "outputs": [
    {
     "name": "stdout",
     "output_type": "stream",
     "text": [
      "Learning rate:  0.05\n",
      "Accuracy score (training): 0.985\n",
      "Accuracy score (validation): 0.980\n",
      "Learning rate:  0.075\n",
      "Accuracy score (training): 0.985\n",
      "Accuracy score (validation): 0.980\n",
      "Learning rate:  0.1\n",
      "Accuracy score (training): 0.990\n",
      "Accuracy score (validation): 0.985\n",
      "Learning rate:  0.25\n",
      "Accuracy score (training): 0.990\n",
      "Accuracy score (validation): 0.985\n",
      "Learning rate:  0.3\n",
      "Accuracy score (training): 0.990\n",
      "Accuracy score (validation): 0.985\n",
      "Learning rate:  0.35\n",
      "Accuracy score (training): 0.994\n",
      "Accuracy score (validation): 0.985\n",
      "Learning rate:  0.4\n",
      "Accuracy score (training): 0.994\n",
      "Accuracy score (validation): 0.985\n",
      "Learning rate:  0.45\n",
      "Accuracy score (training): 0.994\n",
      "Accuracy score (validation): 0.980\n",
      "Learning rate:  0.5\n",
      "Accuracy score (training): 0.996\n",
      "Accuracy score (validation): 0.985\n",
      "Learning rate:  0.75\n",
      "Accuracy score (training): 1.000\n",
      "Accuracy score (validation): 0.980\n",
      "Learning rate:  1\n",
      "Accuracy score (training): 1.000\n",
      "Accuracy score (validation): 0.980\n"
     ]
    },
    {
     "data": {
      "text/plain": [
       "[<matplotlib.lines.Line2D at 0x24f36091eb8>]"
      ]
     },
     "execution_count": 208,
     "metadata": {},
     "output_type": "execute_result"
    },
    {
     "data": {
      "image/png": "[encoded data removed]",
      "text/plain": [
       "<Figure size 432x288 with 1 Axes>"
      ]
     },
     "metadata": {
      "needs_background": "light"
     },
     "output_type": "display_data"
    }
   ],
   "source": [
    "lr_list = [0.05, 0.075, 0.1, 0.25,0.30,0.35,0.40,0.45, 0.5, 0.75, 1]\n",
    "plt_data={'learning_rate':[],'train_accuracy':[],'test_accuracy':[]}\n",
    "for learning_rate in lr_list:\n",
    "    gbm_clf = XGBClassifier(n_estimators=20, learning_rate=learning_rate, max_depth=2, random_state=0)\n",
    "    gbm_clf.fit(X_train, y_train)\n",
    "\n",
    "    print(\"Learning rate: \", learning_rate)\n",
    "    print(\"Accuracy score (training): {0:.3f}\".format(gbm_clf.score(X_train, y_train)))\n",
    "    print(\"Accuracy score (validation): {0:.3f}\".format(gbm_clf.score(X_test, y_test)))\n",
    "    plt_data['learning_rate'].append(learning_rate)\n",
    "    plt_data['train_accuracy'].append(gbm_clf.score(X_train, y_train))\n",
    "    plt_data['test_accuracy'].append(gbm_clf.score(X_test, y_test))\n",
    "plt_data=pd.DataFrame(plt_data)\n",
    "plt.plot(plt_data.learning_rate,plt_data.train_accuracy,'blue')\n",
    "plt.plot(plt_data.learning_rate,plt_data.test_accuracy,'green')"
   ]
  },
  {
   "cell_type": "markdown",
   "metadata": {},
   "source": [
    "<h2>selected learning rate 0.25 of Gradient Boosting Classifier.</h2>"
   ]
  },
  {
   "cell_type": "code",
   "execution_count": 209,
   "metadata": {},
   "outputs": [
    {
     "name": "stdout",
     "output_type": "stream",
     "text": [
      "Confusion Matrix:\n",
      "[[188   2]\n",
      " [  1  14]]\n",
      "Classification Report\n",
      "              precision    recall  f1-score   support\n",
      "\n",
      "           0       0.99      0.99      0.99       190\n",
      "           1       0.88      0.93      0.90        15\n",
      "\n",
      "   micro avg       0.99      0.99      0.99       205\n",
      "   macro avg       0.93      0.96      0.95       205\n",
      "weighted avg       0.99      0.99      0.99       205\n",
      "\n"
     ]
    }
   ],
   "source": [
    "xgbm_clf_tuned = XGBClassifier(n_estimators=20, learning_rate=0.25, max_features=2, max_depth=2, random_state=0)\n",
    "xgbm_clf_tuned.fit(X_train, y_train)\n",
    "predictions = xgbm_clf_tuned.predict(X_test)\n",
    "\n",
    "print(\"Confusion Matrix:\")\n",
    "print(confusion_matrix(y_test, predictions))\n",
    "\n",
    "print(\"Classification Report\")\n",
    "print(classification_report(y_test, predictions))"
   ]
  }
 ],
 "metadata": {
  "kernelspec": {
   "display_name": "Python 3",
   "language": "python",
   "name": "python3"
  },
  "language_info": {
   "codemirror_mode": {
    "name": "ipython",
    "version": 3
   },
   "file_extension": ".py",
   "mimetype": "text/x-python",
   "name": "python",
   "nbconvert_exporter": "python",
   "pygments_lexer": "ipython3",
   "version": "3.7.3"
  }
 },
 "nbformat": 4,
 "nbformat_minor": 2
}
